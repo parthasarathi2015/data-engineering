{
 "cells": [
  {
   "cell_type": "code",
   "execution_count": 1,
   "id": "5ee88f0c-62bc-4ad1-9763-f043b30c6a71",
   "metadata": {},
   "outputs": [
    {
     "name": "stdout",
     "output_type": "stream",
     "text": [
      "started ....!\n",
      "Excel file 'company_report.xlsx' created successfully.\n"
     ]
    }
   ],
   "source": [
    "import pandas as pd\n",
    "from openpyxl import load_workbook\n",
    "from openpyxl.styles import Font\n",
    "import os\n",
    "\n",
    "# Api response as resource from any db my last three comapny\n",
    "def fetch_data():\n",
    "    return [\n",
    "        {\"id\": 1, \"name\": \"Encora Inovation Lab\", \"since\": '11-04-2023'},\n",
    "        {\"id\": 2, \"name\": \"Covalance Global\", \"since\": '30-09-2022'},\n",
    "        {\"id\": 3, \"name\": \"Secomind\", \"since\": '10-04-2022'},\n",
    "    ]\n",
    "\n",
    "# Convert data to DataFrame\n",
    "def create_dataframe(data):\n",
    "    df = pd.DataFrame(data)\n",
    "    return df\n",
    "\n",
    "# Write to Excel with basic formatting\n",
    "def write_to_excel(df, filename='company_report.xlsx', sheet_name='Report'):\n",
    "    df.to_excel(filename, sheet_name=sheet_name, index=False)\n",
    "\n",
    "    # Load workbook and format header\n",
    "    wb = load_workbook(filename)\n",
    "    ws = wb[sheet_name]\n",
    "\n",
    "    header_font = Font(bold=True)\n",
    "    for cell in ws[1]:\n",
    "        cell.font = header_font\n",
    "\n",
    "    wb.save(filename)\n",
    "\n",
    "# Main logic\n",
    "def main():\n",
    "    data = fetch_data()\n",
    "    df = create_dataframe(data)\n",
    "    write_to_excel(df)\n",
    "\n",
    "    print(f\"Excel file 'company_report.xlsx' created successfully.\")\n",
    "\n",
    "if __name__ == \"__main__\":\n",
    "    print(\"started ....!\")\n",
    "    main()\n",
    " "
   ]
  },
  {
   "cell_type": "code",
   "execution_count": null,
   "id": "8d911d2e-ebce-4a0b-9f87-392ca7205c24",
   "metadata": {},
   "outputs": [],
   "source": []
  }
 ],
 "metadata": {
  "kernelspec": {
   "display_name": "Python 3 (ipykernel)",
   "language": "python",
   "name": "python3"
  },
  "language_info": {
   "codemirror_mode": {
    "name": "ipython",
    "version": 3
   },
   "file_extension": ".py",
   "mimetype": "text/x-python",
   "name": "python",
   "nbconvert_exporter": "python",
   "pygments_lexer": "ipython3",
   "version": "3.11.5"
  }
 },
 "nbformat": 4,
 "nbformat_minor": 5
}
