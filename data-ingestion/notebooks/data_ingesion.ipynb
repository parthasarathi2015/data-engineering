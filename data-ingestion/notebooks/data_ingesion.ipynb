{
 "cells": [
  {
   "cell_type": "code",
   "execution_count": 4,
   "id": "519c91b5-89d1-40e5-8942-c80938237779",
   "metadata": {},
   "outputs": [
    {
     "name": "stdout",
     "output_type": "stream",
     "text": [
      "Data inserted successfully.\n"
     ]
    }
   ],
   "source": [
    "import os\n",
    "import pandas as pd\n",
    "from sqlalchemy import create_engine, inspect, text\n",
    "\n",
    "# Configs\n",
    "DB_USER = 'root'\n",
    "DB_PASSWORD = 'password'\n",
    "DB_HOST = 'mysql-container'\n",
    "DB_PORT = '3306'\n",
    "DB_NAME = 'mydatabase'\n",
    "TABLE_NAME = 'my_table'\n",
    "SOURCE_FILE = 'data/source_file.csv'  # Can be .csv or .xlsx\n",
    "\n",
    "# Create engine\n",
    "engine = create_engine(f'mysql+pymysql://{DB_USER}:{DB_PASSWORD}@{DB_HOST}:{DB_PORT}/{DB_NAME}')\n",
    "\n",
    "# Read the file\n",
    "def read_file(file_path):\n",
    "    ext = os.path.splitext(file_path)[1]\n",
    "    if ext == '.csv':\n",
    "        return pd.read_csv(file_path)\n",
    "    elif ext in ['.xls', '.xlsx']:\n",
    "        return pd.read_excel(file_path)\n",
    "    else:\n",
    "        raise Exception(\"Unsupported file format\")\n",
    "\n",
    "# Update schema if new columns are found\n",
    "def update_table_schema(df):\n",
    "    inspector = inspect(engine)\n",
    "    columns = []\n",
    "    if inspector.has_table(TABLE_NAME):\n",
    "        columns = [col['name'] for col in inspector.get_columns(TABLE_NAME)]\n",
    "    \n",
    "    with engine.connect() as conn:\n",
    "        for col in df.columns:\n",
    "            if col not in columns:\n",
    "                alter_sql = f\"ALTER TABLE {TABLE_NAME} ADD COLUMN `{col}` TEXT\"\n",
    "                conn.execute(text(alter_sql))\n",
    "                print(f\"Added new column: {col}\")\n",
    "\n",
    "# Insert data\n",
    "def insert_data(df):\n",
    "    df.to_sql(TABLE_NAME, con=engine, if_exists='append', index=False)\n",
    "\n",
    "def main():\n",
    "    df = read_file(SOURCE_FILE)\n",
    "    update_table_schema(df)\n",
    "    insert_data(df)\n",
    "    print(\"Data inserted successfully.\")\n",
    "\n",
    "if __name__ == \"__main__\":\n",
    "    main()\n"
   ]
  },
  {
   "cell_type": "code",
   "execution_count": null,
   "id": "05521800-ab2f-4f60-9229-1b6bd8bd3517",
   "metadata": {},
   "outputs": [],
   "source": []
  },
  {
   "cell_type": "code",
   "execution_count": null,
   "id": "8c5936d5-3851-498e-ade9-db93d51a8bae",
   "metadata": {},
   "outputs": [],
   "source": []
  }
 ],
 "metadata": {
  "kernelspec": {
   "display_name": "Python 3 (ipykernel)",
   "language": "python",
   "name": "python3"
  },
  "language_info": {
   "codemirror_mode": {
    "name": "ipython",
    "version": 3
   },
   "file_extension": ".py",
   "mimetype": "text/x-python",
   "name": "python",
   "nbconvert_exporter": "python",
   "pygments_lexer": "ipython3",
   "version": "3.11.5"
  }
 },
 "nbformat": 4,
 "nbformat_minor": 5
}
